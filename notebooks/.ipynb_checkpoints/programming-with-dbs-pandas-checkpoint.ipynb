{
 "cells": [
  {
   "cell_type": "code",
   "execution_count": null,
   "metadata": {},
   "outputs": [],
   "source": [
    "import sqlite3\n",
    "\n",
    "import pandas as pd"
   ]
  },
  {
   "cell_type": "code",
   "execution_count": null,
   "metadata": {},
   "outputs": [],
   "source": [
    "with sqlite3.connect(\"../../data/survey.db\") as connection:\n",
    "    df = pd.read_sql(sql=\"SELECT Site.lat, Site.long FROM Site;\", con=connection)"
   ]
  },
  {
   "cell_type": "code",
   "execution_count": null,
   "metadata": {},
   "outputs": [],
   "source": [
    "df"
   ]
  },
  {
   "cell_type": "code",
   "execution_count": null,
   "metadata": {},
   "outputs": [],
   "source": [
    "def get_name(connection, person_identifier):\n",
    "    query = f\"SELECT personal || ' ' || family FROM Person WHERE id='{person_identifier}';\"\n",
    "    name, = (pd.read_sql(sql=query, con=connection)\n",
    "               .iloc[0]\n",
    "               .values)\n",
    "    return name\n"
   ]
  },
  {
   "cell_type": "code",
   "execution_count": null,
   "metadata": {},
   "outputs": [],
   "source": [
    "with sqlite3.connect(\"../../data/survey.db\") as connection:\n",
    "    name = get_name(connection, \"dyer\")"
   ]
  },
  {
   "cell_type": "code",
   "execution_count": null,
   "metadata": {},
   "outputs": [],
   "source": [
    "name"
   ]
  },
  {
   "cell_type": "code",
   "execution_count": null,
   "metadata": {},
   "outputs": [],
   "source": [
    "def get_name(connection, person_identifier):\n",
    "    query = f\"SELECT personal || ' ' || family FROM Person WHERE id=?;\"\n",
    "    name, = (pd.read_sql(sql=query, con=connection, params=[person_identifier])\n",
    "               .iloc[0]\n",
    "               .values)\n",
    "    return name\n"
   ]
  },
  {
   "cell_type": "code",
   "execution_count": null,
   "metadata": {},
   "outputs": [],
   "source": [
    "with sqlite3.connect(\"../../data/survey.db\") as connection:\n",
    "    name = get_name(connection, \"dyer\")"
   ]
  },
  {
   "cell_type": "code",
   "execution_count": null,
   "metadata": {},
   "outputs": [],
   "source": [
    "name"
   ]
  },
  {
   "cell_type": "markdown",
   "metadata": {},
   "source": [
    "## Filling a Table vs. Printing Values"
   ]
  },
  {
   "cell_type": "code",
   "execution_count": null,
   "metadata": {},
   "outputs": [],
   "source": [
    "import numpy as np\n",
    "\n",
    "prng = np.random.RandomState(42)\n",
    "numbers = prng.uniform(low=10.0, high=25.0, size=1000000)\n",
    "df = pd.DataFrame.from_dict({\"reading\": numbers})"
   ]
  },
  {
   "cell_type": "code",
   "execution_count": null,
   "metadata": {},
   "outputs": [],
   "source": [
    "%%timeit\n",
    "\n",
    "with sqlite3.connect(\"../../data/original.db\") as connection:\n",
    "    df.to_sql(name=\"Pressure\",\n",
    "              con=connection,\n",
    "              if_exists=\"replace\",\n",
    "              index=False,\n",
    "              dtype={\"reading\": \"real\"})"
   ]
  },
  {
   "cell_type": "code",
   "execution_count": null,
   "metadata": {},
   "outputs": [],
   "source": [
    "%timeit df.to_csv(\"../../data/original.csv\", index=False)"
   ]
  },
  {
   "cell_type": "markdown",
   "metadata": {},
   "source": [
    "**Takeaway**: Writing to SQL DB is significantly faster than writing to disk!"
   ]
  },
  {
   "cell_type": "markdown",
   "metadata": {},
   "source": [
    "## Filtering in SQL vs. Filtering in Python"
   ]
  },
  {
   "cell_type": "code",
   "execution_count": null,
   "metadata": {},
   "outputs": [],
   "source": [
    "%%timeit\n",
    "\n",
    "with sqlite3.connect(\"../../data/original.db\") as connection:\n",
    "    df = pd.read_sql(sql=\"SELECT * FROM Pressure;\", con=connection)\n",
    "\n",
    "with sqlite3.connect(\"../../data/backup.db\") as connection:\n",
    "    (df[df[\"reading\"] > 20.0]\n",
    "       .to_sql(name=\"Pressure\",\n",
    "               con=connection,\n",
    "               if_exists=\"replace\",\n",
    "               index=False,\n",
    "               dtype={\"reading\": \"real\"}))"
   ]
  },
  {
   "cell_type": "code",
   "execution_count": null,
   "metadata": {},
   "outputs": [],
   "source": [
    "%%timeit\n",
    "\n",
    "with sqlite3.connect(\"../../data/original.db\") as connection:\n",
    "    df = pd.read_sql(sql=\"SELECT * FROM Pressure WHERE reading > 20.0;\", con=connection)\n",
    "\n",
    "with sqlite3.connect(\"../../data/backup.db\") as connection:\n",
    "    df.to_sql(name=\"Pressure\",\n",
    "              con=connection,\n",
    "              if_exists=\"replace\",\n",
    "              index=False,\n",
    "              dtype={\"reading\": \"real\"})"
   ]
  },
  {
   "cell_type": "markdown",
   "metadata": {},
   "source": [
    "**Takeaway:** Pushing computation into the DB will improve performance!"
   ]
  },
  {
   "cell_type": "code",
   "execution_count": null,
   "metadata": {},
   "outputs": [],
   "source": []
  }
 ],
 "metadata": {
  "kernelspec": {
   "display_name": "Python 3",
   "language": "python",
   "name": "python3"
  },
  "language_info": {
   "codemirror_mode": {
    "name": "ipython",
    "version": 3
   },
   "file_extension": ".py",
   "mimetype": "text/x-python",
   "name": "python",
   "nbconvert_exporter": "python",
   "pygments_lexer": "ipython3",
   "version": "3.7.3"
  }
 },
 "nbformat": 4,
 "nbformat_minor": 2
}
