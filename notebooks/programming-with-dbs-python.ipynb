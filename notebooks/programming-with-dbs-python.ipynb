{
 "cells": [
  {
   "cell_type": "code",
   "execution_count": null,
   "metadata": {},
   "outputs": [],
   "source": [
    "import sqlite3"
   ]
  },
  {
   "cell_type": "code",
   "execution_count": null,
   "metadata": {},
   "outputs": [],
   "source": [
    "connection = sqlite3.connect(\"../../data/survey.db\")\n",
    "\n",
    "cursor = connection.cursor()\n",
    "cursor.execute(\"SELECT Site.lat, Site.long FROM Site;\")\n",
    "results = cursor.fetchall()\n",
    "for result in results:\n",
    "    print(result)\n",
    "cursor.close()\n",
    "connection.close()"
   ]
  },
  {
   "cell_type": "code",
   "execution_count": null,
   "metadata": {},
   "outputs": [],
   "source": [
    "def get_name(connection, person_identifier):\n",
    "    query = f\"SELECT personal || ' ' || family FROM Person WHERE id='{person_identifier}';\"\n",
    "    cursor = connection.cursor()\n",
    "    cursor.execute(query)\n",
    "    (name,), *_ = cursor.fetchall()\n",
    "    cursor.close()\n",
    "    return name\n"
   ]
  },
  {
   "cell_type": "code",
   "execution_count": null,
   "metadata": {},
   "outputs": [],
   "source": [
    "connection = sqlite3.connect(\"../../data/survey.db\")\n",
    "name = get_name(connection, \"dyer\")\n",
    "connection.close()"
   ]
  },
  {
   "cell_type": "code",
   "execution_count": null,
   "metadata": {},
   "outputs": [],
   "source": [
    "name"
   ]
  },
  {
   "cell_type": "code",
   "execution_count": null,
   "metadata": {},
   "outputs": [],
   "source": [
    "def get_name(connection, person_identifier):\n",
    "    query = \"SELECT personal || ' ' || family FROM Person WHERE id=?;\"\n",
    "    cursor = connection.cursor()\n",
    "    cursor.execute(query, [person_identifier])\n",
    "    (name,), *_ = cursor.fetchall()\n",
    "    cursor.close()\n",
    "    return name\n"
   ]
  },
  {
   "cell_type": "code",
   "execution_count": null,
   "metadata": {},
   "outputs": [],
   "source": [
    "connection = sqlite3.connect(\"../../data/survey.db\")\n",
    "name = get_name(connection, \"dyer\")\n",
    "connection.close()"
   ]
  },
  {
   "cell_type": "code",
   "execution_count": null,
   "metadata": {},
   "outputs": [],
   "source": [
    "name"
   ]
  },
  {
   "cell_type": "code",
   "execution_count": null,
   "metadata": {},
   "outputs": [],
   "source": []
  },
  {
   "cell_type": "markdown",
   "metadata": {},
   "source": [
    "## Filling a Table vs. Printing Values"
   ]
  },
  {
   "cell_type": "code",
   "execution_count": null,
   "metadata": {},
   "outputs": [],
   "source": [
    "import numpy as np\n",
    "\n",
    "prng = np.random.RandomState(42)\n",
    "numbers = prng.uniform(low=10.0, high=25.0, size=1000000)"
   ]
  },
  {
   "cell_type": "code",
   "execution_count": null,
   "metadata": {},
   "outputs": [],
   "source": [
    "%%timeit\n",
    "\n",
    "connection = sqlite3.connect(\"../../data/original.db\")\n",
    "cursor = connection.cursor()\n",
    "cursor.execute(\"DROP TABLE IF EXISTS Pressure;\")\n",
    "cursor.execute(\"CREATE TABLE Pressure (reading float not null);\")\n",
    "\n",
    "query = \"INSERT INTO Pressure values (?);\"\n",
    "for number in numbers:\n",
    "    cursor.execute(query, [number])\n",
    "\n",
    "cursor.close()\n",
    "connection.commit()\n",
    "connection.close"
   ]
  },
  {
   "cell_type": "code",
   "execution_count": null,
   "metadata": {},
   "outputs": [],
   "source": [
    "%%timeit\n",
    "\n",
    "with open(\"../../data/original.txt\", 'w') as out:\n",
    "    for number in numbers:\n",
    "        out.write(f\"{number}\\n\")"
   ]
  },
  {
   "cell_type": "markdown",
   "metadata": {},
   "source": [
    "## Filtering in SQL vs. Filtering in Python"
   ]
  },
  {
   "cell_type": "code",
   "execution_count": null,
   "metadata": {},
   "outputs": [],
   "source": [
    "%%timeit\n",
    "\n",
    "original_connection = sqlite3.connect(\"../../data/original.db\")\n",
    "original_cursor = original_connection.cursor()\n",
    "original_cursor.execute(\"SELECT * FROM Pressure;\")\n",
    "results = original_cursor.fetchall()\n",
    "original_cursor.close()\n",
    "original_connection.close()\n",
    "\n",
    "backup_connection = sqlite3.connect(\"../../data/backup.db\")\n",
    "backup_cursor = backup_connection.cursor()\n",
    "backup_cursor.execute(\"DROP TABLE IF EXISTS Pressure;\")\n",
    "backup_cursor.execute(\"CREATE TABLE Pressure (reading float not null);\")\n",
    "\n",
    "query = \"INSERT INTO Pressure values (?);\"\n",
    "for (number,) in results:\n",
    "    if number > 20.0:\n",
    "        backup_cursor.execute(query, [number])\n",
    "    else:\n",
    "        pass\n",
    "backup_cursor.close()\n",
    "backup_connection.commit()\n",
    "backup_connection.close()"
   ]
  },
  {
   "cell_type": "code",
   "execution_count": null,
   "metadata": {},
   "outputs": [],
   "source": [
    "%%timeit\n",
    "\n",
    "original_connection = sqlite3.connect(\"../../data/original.db\")\n",
    "original_cursor = original_connection.cursor()\n",
    "original_cursor.execute(\"SELECT * FROM Pressure WHERE reading > 20.0;\")\n",
    "results = original_cursor.fetchall()\n",
    "original_cursor.close()\n",
    "original_connection.close()\n",
    "\n",
    "backup_connection = sqlite3.connect(\"../../data/backup.db\")\n",
    "backup_cursor = backup_connection.cursor()\n",
    "backup_cursor.execute(\"DROP TABLE IF EXISTS Pressure;\")\n",
    "backup_cursor.execute(\"CREATE TABLE Pressure (reading float not null);\")\n",
    "\n",
    "query = \"INSERT INTO Pressure values (?);\"\n",
    "for (number,) in results:\n",
    "    backup_cursor.execute(query, [number])\n",
    "    \n",
    "backup_cursor.close()\n",
    "backup_connection.commit()\n",
    "backup_connection.close()"
   ]
  },
  {
   "cell_type": "code",
   "execution_count": null,
   "metadata": {},
   "outputs": [],
   "source": []
  }
 ],
 "metadata": {
  "kernelspec": {
   "display_name": "Python 3",
   "language": "python",
   "name": "python3"
  },
  "language_info": {
   "codemirror_mode": {
    "name": "ipython",
    "version": 3
   },
   "file_extension": ".py",
   "mimetype": "text/x-python",
   "name": "python",
   "nbconvert_exporter": "python",
   "pygments_lexer": "ipython3",
   "version": "3.7.3"
  }
 },
 "nbformat": 4,
 "nbformat_minor": 2
}
